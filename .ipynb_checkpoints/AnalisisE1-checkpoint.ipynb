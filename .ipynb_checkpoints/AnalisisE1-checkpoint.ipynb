{
 "cells": [
  {
   "cell_type": "markdown",
   "metadata": {},
   "source": [
    "# Analisis de Datos Etapa 1"
   ]
  },
  {
   "cell_type": "markdown",
   "metadata": {},
   "source": [
    "* 1. estadisticas por Zona, visualización de graficas por Zona\n",
    "* * 1.1 Seleccionar Datas de Interes\n",
    "* * 1.2 Estadisticas y visualizaciones por zona\n",
    "* * * 1.2.1 Estadisticas general por zona\n",
    "* * * 1.2.2 Visualizacion general por zona\n",
    "* * * 1.2.3 Estadisticas clase quemado por zona\n",
    "* * * 1.2.3 Visualizacion clase quemado por zona\n",
    "* * * 1.2.3 Estadisticas clase No quemado por zona\n",
    "* * * 1.2.3 Visualizacion clase No quemado por zona\n",
    "* 2. Visualización de estadisticas de archivos generico\n",
    "* 3. filtrado de achivo por clases para datos perteneciente al 50% más representativo\n",
    "* 4. creación de set de datos optimizado con todos los data Set\n",
    "* 5. rentrenamiento y visualización de resultados obtenidos con estadisticas de data set"
   ]
  },
  {
   "cell_type": "markdown",
   "metadata": {},
   "source": [
    "## Cargar librerias"
   ]
  },
  {
   "cell_type": "code",
   "execution_count": 8,
   "metadata": {},
   "outputs": [
    {
     "name": "stdout",
     "output_type": "stream",
     "text": [
      "La direccion base es: /home/pc/Tesis MCC/\n"
     ]
    }
   ],
   "source": [
    "# -*- coding: utf-8 -*-\n",
    "import os,sys\n",
    "\n",
    "#consegir direccion base de experimentos\n",
    "base = os.getcwd().strip(' ').split('/')\n",
    "dirBase=''\n",
    "for i in range(len(base)-1):\n",
    "    dirBase+=base[i]+'/'\n",
    "    \n",
    "sys.path.append(dirBase+'Funciones')\n",
    "print('La direccion base es: '+dirBase)\n",
    "\n",
    "import indices as ind\n",
    "import imagenes as im\n",
    "import toolbox as tl\n",
    "import pandas as pd\n",
    "import csv\n",
    "import matplotlib.pyplot as plt\n",
    "import seaborn as sns #Seaborn is a Python data visualization library based on matplotlib\n",
    "from time import time\n",
    "import pandas as pd\n",
    "import seaborn as sns #Seaborn is a Python data visualization library based on matplotlib\n"
   ]
  },
  {
   "cell_type": "markdown",
   "metadata": {},
   "source": [
    "## Direcciones de carpetas y archivos"
   ]
  },
  {
   "cell_type": "code",
   "execution_count": 9,
   "metadata": {},
   "outputs": [],
   "source": [
    "#Direccion general\n",
    "\n",
    "dirImAnalisis= dirBase+'imagenesAnalisis/'\n",
    "\n",
    "modelBase=dirBase+'modelos/base/modelo_ELM_delRasInd.sav'  #modelo base entrenado con zonas visuales\n",
    "#nombre de imagen según modelo\n",
    "rasClassModel='dIm+dInd.tif'\n",
    "rasClasificado='rasterClasificado.tif'\n",
    "shpClasificado='shpClasificado.shp'\n",
    "csvClasificado='CsvClasificado.csv'\n",
    "\n",
    "#1. clasificar con modelo entrenado imagenes\n",
    "#zonas de experimento, se encuentra dentro de la carpete de imagenes a analizar\n",
    "#zonas=['maule','concepcion','temuco']\n",
    "zonas=['maule']"
   ]
  },
  {
   "cell_type": "markdown",
   "metadata": {},
   "source": [
    "# 1. Estadisticas individuales y visualización de graficas"
   ]
  },
  {
   "cell_type": "markdown",
   "metadata": {},
   "source": [
    "## 1.1 Seleccionar Datas de Interes"
   ]
  },
  {
   "cell_type": "markdown",
   "metadata": {},
   "source": [
    "*  Listar todos los arvhivos CSV\n",
    "*  Selecionar principales.\n",
    "*  abrir archivos para estadisticas"
   ]
  },
  {
   "cell_type": "code",
   "execution_count": 15,
   "metadata": {},
   "outputs": [
    {
     "name": "stdout",
     "output_type": "stream",
     "text": [
      "Mostrar CSV de experimentos de cada Zona\n",
      "/home/pc/Tesis MCC/imagenesAnalisis/maule/procesadas/\n",
      "En la Zona:  maule\n",
      " *  pre+indCsvClasificado.csv\n",
      " *  indicesPostCsvClasificado.csv\n",
      " *  dIm+dIndCsvClasificado.csv\n",
      " *  indicesPreCsvClasificado.csv\n",
      " *  deltasCsvClasificado.csv\n",
      " *  deltasIndCsvClasificado.csv\n",
      " *  post+indCsvClasificado.csv\n",
      "\n"
     ]
    }
   ],
   "source": [
    "print('Mostrar CSV de experimentos de cada Zona')\n",
    "inicio=time() #captura tiempos de ejecución\n",
    "\n",
    "contador=0 #control ingreso unico a zona\n",
    "for zona in zonas: #todas las zonas\n",
    "    dirZona=dirImAnalisis+zona+'/procesadas/'\n",
    "    print(dirZona)\n",
    "    \n",
    "    \n",
    "    archivosCSV=os.listdir(dirZona)\n",
    "    archivosCSV=tl.conservarListaPexten(archivosCSV,\".csv\")\n",
    "    \n",
    "    print('En la Zona: ',zona)\n",
    "    for arc in archivosCSV:\n",
    "        print(' * ',arc)\n",
    "    print('')\n",
    "    \n",
    "\n",
    "    \n",
    "    "
   ]
  },
  {
   "cell_type": "markdown",
   "metadata": {},
   "source": [
    "# Los archivos a analizar son:\n",
    "### Seleccion manual de SET DE DATOS a analizar\n",
    "    * deltasCsvClasificado.csv\n",
    "    * deltasIndCsvClasificado.csv\n",
    "    * dIm+dIndCsvClasificado.csv"
   ]
  },
  {
   "cell_type": "code",
   "execution_count": 11,
   "metadata": {},
   "outputs": [],
   "source": [
    "SDSeleccionado=[]\n",
    "SDSeleccionado.append('deltasCsvClasificado.csv')\n",
    "#SDSeleccionado.append('deltasIndCsvClasificado.csv')\n",
    "#SDSeleccionado.append('dIm+dIndCsvClasificado.csv')\n",
    "\n",
    "#print(zonasSeleccionado)"
   ]
  },
  {
   "cell_type": "markdown",
   "metadata": {},
   "source": [
    "## 1.2 Estadisticas y visualizaciones por zona"
   ]
  },
  {
   "cell_type": "markdown",
   "metadata": {},
   "source": [
    "* 1.2.1 Estadisticas general por zona y DataSet\n",
    "* 1.2.2 Visualizacion general por zona y DataSet\n",
    "* 1.2.3 Estadisticas clase quemado por zona y DataSet\n",
    "* 1.2.3 Visualizacion clase quemado por zona y DataSet\n",
    "* 1.2.3 Estadisticas clase No quemado por zona y DataSet\n",
    "* 1.2.3 Visualizacion clase No quemado por zona y DataSet"
   ]
  },
  {
   "cell_type": "code",
   "execution_count": 12,
   "metadata": {},
   "outputs": [],
   "source": [
    "# Aseguremonos de que las imágenes aparezcan insertadas en iPython Notebook\n",
    "%matplotlib inline"
   ]
  },
  {
   "cell_type": "markdown",
   "metadata": {},
   "source": [
    "### 1.2.1 Estadisticas general por zona y DataSet"
   ]
  },
  {
   "cell_type": "markdown",
   "metadata": {},
   "source": [
    "Por cada zona y \n",
    "* Cabecera\n",
    "* Estadistica general\n",
    "* número de datos por clase\n",
    "* Indice de separabilidad por clases\n",
    "* Analisis de componentes principales\n"
   ]
  },
  {
   "cell_type": "code",
   "execution_count": 13,
   "metadata": {},
   "outputs": [
    {
     "name": "stdout",
     "output_type": "stream",
     "text": [
      "\n",
      "\n",
      "***********************************************************************************\n",
      "***********************************************************************************\n",
      "Estadisticas para Zona:  maule\n",
      "***********************************************************************************\n",
      "Estadisticas para generales data set: deltasCsvClasificado.csv\n",
      "\n",
      "1.Cabezera:\n",
      "   banda1  banda2  banda3  banda4  banda5  banda6  banda7  banda8  banda9  \\\n",
      "0    90.0    51.0    50.0    -8.0   143.0   215.0   195.0   164.0   110.0   \n",
      "1   100.0   110.0    80.0    44.0   167.0   127.0   311.0   219.0   112.0   \n",
      "2   138.0   144.0   161.0   124.0   233.0   189.0   291.0   335.0   224.0   \n",
      "3   116.0   100.0   107.0    86.0   100.0   194.0   272.0   308.0   190.0   \n",
      "4    92.0    62.0    29.0     6.0   177.0   180.0   365.0   213.0   141.0   \n",
      "\n",
      "   Clase  \n",
      "0    0.0  \n",
      "1    0.0  \n",
      "2    0.0  \n",
      "3    0.0  \n",
      "4    0.0  \n",
      "\n",
      "2.Estadisticas Principales:\n",
      "             banda1        banda2        banda3        banda4        banda5  \\\n",
      "count  4.507503e+06  4.507503e+06  4.507503e+06  4.507503e+06  4.507503e+06   \n",
      "mean   5.832926e+01  9.567572e+01  2.463977e+01  1.128242e+02  4.751733e+02   \n",
      "std    1.217909e+02  1.449044e+02  2.440256e+02  2.482236e+02  4.455025e+02   \n",
      "min   -3.168000e+03 -3.650000e+03 -4.148000e+03 -4.074000e+03 -4.526000e+03   \n",
      "25%    3.000000e+00  2.300000e+01 -1.000000e+02 -2.400000e+01  1.540000e+02   \n",
      "50%    6.600000e+01  9.400000e+01  4.100000e+01  1.040000e+02  3.830000e+02   \n",
      "75%    1.240000e+02  1.730000e+02  1.540000e+02  2.430000e+02  7.560000e+02   \n",
      "max    3.433000e+03  3.596000e+03  3.528000e+03  3.439000e+03  3.989000e+03   \n",
      "\n",
      "             banda6        banda7        banda8        banda9         Clase  \n",
      "count  4.507503e+06  4.507503e+06  4.507503e+06  4.507503e+06  4.507503e+06  \n",
      "mean   5.818915e+02  6.177792e+02  2.103447e+02 -3.814903e+01  1.743136e-01  \n",
      "std    5.390612e+02  5.848161e+02  3.663835e+02  3.747967e+02  3.793790e-01  \n",
      "min   -4.839000e+03 -4.846000e+03 -5.597000e+03 -6.021000e+03  0.000000e+00  \n",
      "25%    1.900000e+02  1.930000e+02  1.400000e+01 -2.060000e+02  0.000000e+00  \n",
      "50%    4.490000e+02  4.660000e+02  1.970000e+02  5.200000e+01  0.000000e+00  \n",
      "75%    9.120000e+02  9.800000e+02  4.040000e+02  1.930000e+02  0.000000e+00  \n",
      "max    4.697000e+03  5.122000e+03  3.617000e+03  4.240000e+03  1.000000e+00  \n",
      "\n",
      "3.Agrupado por clase\n",
      "Clase\n",
      "0.0    3721784\n",
      "1.0     785719\n",
      "Name: banda1, dtype: int64\n"
     ]
    }
   ],
   "source": [
    "\n",
    "inicio=time() #captura tiempos de ejecución\n",
    "contador=0 #control ingreso unico a zona\n",
    "for zona in zonas: #todas las zonas\n",
    "    print('\\n\\n***********************************************************************************')\n",
    "    print('***********************************************************************************')\n",
    "    print('Estadisticas para Zona: ',zona)\n",
    "    dirZona=dirImAnalisis+zona+'/procesadas/'\n",
    "    for SDS in SDSeleccionado:\n",
    "        archivosCSV=dirZona+SDS\n",
    "        ds=pd.read_csv(archivosCSV,sep=';')\n",
    "        print('***********************************************************************************')\n",
    "        print('Estadisticas para generales data set:',SDS)\n",
    "        print('\\n1.Cabezera:')\n",
    "        print(ds.head())\n",
    "        print('\\n2.Estadisticas Principales:')\n",
    "        print(ds.describe())\n",
    "        grupoClase=ds.groupby(['Clase'])\n",
    "        print('\\n3.Agrupado por clase')\n",
    "        print(grupoClase.banda1.count())\n",
    "       # plot = ds['Clase'].value_counts().plot(kind='bar', title='Est. General Quemados y No Quemados')\n",
    "        # sns.boxplot(x = 'Clase', y = 'banda7', data = ds) \n",
    "        \n",
    "        "
   ]
  },
  {
   "cell_type": "code",
   "execution_count": null,
   "metadata": {},
   "outputs": [],
   "source": []
  }
 ],
 "metadata": {
  "kernelspec": {
   "display_name": "Python 3",
   "language": "python",
   "name": "python3"
  },
  "language_info": {
   "codemirror_mode": {
    "name": "ipython",
    "version": 3
   },
   "file_extension": ".py",
   "mimetype": "text/x-python",
   "name": "python",
   "nbconvert_exporter": "python",
   "pygments_lexer": "ipython3",
   "version": "3.7.6"
  }
 },
 "nbformat": 4,
 "nbformat_minor": 4
}
