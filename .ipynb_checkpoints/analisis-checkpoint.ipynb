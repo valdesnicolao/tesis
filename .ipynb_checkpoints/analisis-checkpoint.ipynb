{
 "cells": [
  {
   "cell_type": "markdown",
   "metadata": {},
   "source": [
    "# Perparación y Analisis de bandas e indices en clasificación\n"
   ]
  },
  {
   "cell_type": "markdown",
   "metadata": {},
   "source": [
    "Analisis de bandas e indices de raster con clasificación\n",
    "1. Cargar imagenes de referencia (verdad, imagen original)\n",
    "2. Visualización de firmas espectrales quemado y no quemado\n",
    "3. Analisis por Bandas, graficos de caja, tecnicas estadisticas\n",
    "4."
   ]
  },
  {
   "cell_type": "markdown",
   "metadata": {},
   "source": [
    "# Metodología general"
   ]
  },
  {
   "cell_type": "markdown",
   "metadata": {},
   "source": [
    "1. A partir de raster pre, post y una clasificación se tomará"
   ]
  },
  {
   "cell_type": "code",
   "execution_count": 101,
   "metadata": {},
   "outputs": [
    {
     "name": "stdout",
     "output_type": "stream",
     "text": [
      "La direccion base es: /home/pc/Tesis/AnacondaTesis/\n"
     ]
    }
   ],
   "source": [
    "# -*- coding: utf-8 -*-\n",
    "import os,sys\n",
    "\n",
    "#consegir direccion base de experimentos\n",
    "base = os.getcwd().strip(' ').split('/')\n",
    "dirBase=''\n",
    "for i in range(len(base)-1):\n",
    "    dirBase+=base[i]+'/'\n",
    "    \n",
    "sys.path.append(dirBase+'Funciones')\n",
    "print('La direccion base es: '+dirBase)\n",
    "\n",
    "import indices as ind\n",
    "import imagenes as im\n",
    "import toolbox as tl\n",
    "import pandas as pd\n",
    "import csv\n",
    "import matplotlib.pyplot as plt\n",
    "import seaborn as sns #Seaborn is a Python data visualization library based on matplotlib\n",
    "\n",
    "#Direccion general\n",
    "dirImaAnalisis='/home/pc/Tesis/BDimagenes/imAnalisis/'\n"
   ]
  },
  {
   "cell_type": "markdown",
   "metadata": {},
   "source": [
    "## Cálculo de indices y creación de imagenes Procesadas\n",
    "### ** Ejecutar solo en caso que no existan imagenes procesadas"
   ]
  },
  {
   "cell_type": "markdown",
   "metadata": {},
   "source": [
    "Ingresar imagenes procesadas por Sen2cor\n",
    "-crea imagenes con indices y delta indices"
   ]
  },
  {
   "cell_type": "code",
   "execution_count": 68,
   "metadata": {},
   "outputs": [
    {
     "name": "stdout",
     "output_type": "stream",
     "text": [
      "Raster Borrado\n",
      "Raster Borrado\n"
     ]
    }
   ],
   "source": [
    "#direcciones de imagenes clasificada, pre y post\n",
    "dImOriPre=dirImaAnalisis+'pre.tif'\n",
    "dImOriPost=dirImaAnalisis+'post.tif'\n",
    "\n",
    "pre=(im.raster(dImOriPre,'bandasSen2cor'))\n",
    "post=(im.raster(dImOriPost,'bandasSen2cor'))\n",
    "\n",
    "#cargar y procesar imagenes pre y post, calculo de indices\n",
    "#\tMIRBI\n",
    "#\tNBR2\n",
    "#\tBAI\n",
    "#\tBAIS2\n",
    "\n",
    "#cargar y procesar imagnes pre y post\n",
    "indPre=ind.indices1(pre)\n",
    "indPost=ind.indices1(post)\n",
    "\n",
    "#Calculos sobre imagenes previas + indices\n",
    "previas=[]\n",
    "previas.append(pre.listaBandas)#lista con valores de todas las bandas\n",
    "previas.append(indPre)\n",
    "ImaPre=ind.unir(previas)\n",
    "\n",
    "tl.guardarRaster(ImaPre,pre,dirImaAnalisis+'pre+ind.tif') #pre junto con indices\n",
    "tl.guardarRaster(indPre,pre,dirImaAnalisis+'indicesPre.tif') #indices pre\n",
    "\n",
    "\t#Calculos sobre imagenes previas + indices\n",
    "posteriores=[]\n",
    "posteriores.append(post.listaBandas)\n",
    "posteriores.append(indPost)\n",
    "ImaPost=ind.unir(posteriores)\n",
    "tl.guardarRaster(ImaPost,post,dirImaAnalisis+'post+ind.tif')#post junto con indices\n",
    "tl.guardarRaster(indPost,post,dirImaAnalisis+'indicesPost.tif')#indices post\n",
    "\n",
    "#Calcula delta de imagenes pre y post mas indices\n",
    "deltasImInd=ind.delta(ImaPre,ImaPost)\n",
    "tl.guardarRaster(deltasImInd,post,dirImaAnalisis+'dIm+dInd.tif')#delta imagenes e indices\n",
    "\n",
    "deltasInd=ind.delta(indPre,indPost)\n",
    "tl.guardarRaster(deltasInd,post,dirImaAnalisis+'deltasInd.tif')#delta indices\n",
    "\n",
    "deltas=ind.delta(pre.listaBandas,post.listaBandas)\n",
    "tl.guardarRaster(deltas,post,dirImaAnalisis+'deltas.tif') #delta ima\n",
    "\n",
    "del pre\n",
    "del post\n"
   ]
  },
  {
   "cell_type": "markdown",
   "metadata": {},
   "source": [
    "# Construccion de archivos para analisis"
   ]
  },
  {
   "cell_type": "markdown",
   "metadata": {},
   "source": [
    "Direccion y nombre de imagenes a analizar, las imagenes son abiertas de forma estandar (banda1,banda2, ... ,bandaN)\n"
   ]
  },
  {
   "cell_type": "code",
   "execution_count": 69,
   "metadata": {},
   "outputs": [],
   "source": [
    "dirImaAnalisis='/home/pc/Tesis/BDimagenes/imAnalisis/'\n",
    "dImOriPre=dirImaAnalisis+'pre.tif'\n",
    "dImOriPost=dirImaAnalisis+'post.tif'\n",
    "dImProIndyPre=dirImaAnalisis+'pre+ind.tif'\n",
    "dImProIndyPost=dirImaAnalisis+'post+ind.tif'\n",
    "dImProIndPre=dirImaAnalisis+'indicesPre.tif'\n",
    "dImProIndPost=dirImaAnalisis+'indicesPost.tif'\n",
    "dImProDeltaImInd=dirImaAnalisis+'dIm+dInd.tif'\n",
    "dImProDeltaInd=dirImaAnalisis+'deltasInd.tif'\n",
    "dImProDeltaIm=dirImaAnalisis+'deltas.tif'\n",
    "dImClass=dirImaAnalisis+'clasificacionMaule.tif'\n",
    "\n"
   ]
  },
  {
   "cell_type": "markdown",
   "metadata": {},
   "source": [
    "### Creación CSV Con imagenes a analizar"
   ]
  },
  {
   "cell_type": "markdown",
   "metadata": {},
   "source": [
    "Nombre de archivos csv, utiliza como separador \";\""
   ]
  },
  {
   "cell_type": "code",
   "execution_count": 70,
   "metadata": {},
   "outputs": [],
   "source": [
    "preCSV=dirImaAnalisis+'pre.csv'\n",
    "postCSV=dirImaAnalisis+'post.csv'\n",
    "preIndicesCSV=dirImaAnalisis+'preIndices.csv'\n",
    "postIndicesCSV=dirImaAnalisis+'postIndices.csv'\n",
    "indicesPreCSV=dirImaAnalisis+'indicesPre.csv'\n",
    "indicesPostCSV=dirImaAnalisis+'indicesPost.csv'\n",
    "deltaRasIndiceCSV=dirImaAnalisis+'deltaRasInd.csv'\n",
    "deltaIndicesCSV=dirImaAnalisis+'deltaIndices.csv'\n",
    "deltaRasterCSV=dirImaAnalisis+'deltaRaster.csv'\n",
    "\n"
   ]
  },
  {
   "cell_type": "markdown",
   "metadata": {},
   "source": [
    "Creacion de achivos de analisis CSV"
   ]
  },
  {
   "cell_type": "code",
   "execution_count": 71,
   "metadata": {},
   "outputs": [
    {
     "name": "stdout",
     "output_type": "stream",
     "text": [
      "Raster Borrado\n",
      "Raster Borrado\n",
      "***** CSV de Analisis '/home/pc/Tesis/BDimagenes/imAnalisis/pre.csv' construido!!\n",
      "Raster Borrado\n",
      "Raster Borrado\n",
      "***** CSV de Analisis '/home/pc/Tesis/BDimagenes/imAnalisis/post.csv' construido!!\n",
      "Raster Borrado\n",
      "Raster Borrado\n",
      "***** CSV de Analisis '/home/pc/Tesis/BDimagenes/imAnalisis/preIndices.csv' construido!!\n",
      "Raster Borrado\n",
      "Raster Borrado\n",
      "***** CSV de Analisis '/home/pc/Tesis/BDimagenes/imAnalisis/postIndices.csv' construido!!\n",
      "Raster Borrado\n",
      "Raster Borrado\n",
      "***** CSV de Analisis '/home/pc/Tesis/BDimagenes/imAnalisis/indicesPre.csv' construido!!\n",
      "Raster Borrado\n",
      "Raster Borrado\n",
      "***** CSV de Analisis '/home/pc/Tesis/BDimagenes/imAnalisis/indicesPost.csv' construido!!\n",
      "Raster Borrado\n",
      "Raster Borrado\n",
      "***** CSV de Analisis '/home/pc/Tesis/BDimagenes/imAnalisis/deltaRasInd.csv' construido!!\n",
      "Raster Borrado\n",
      "Raster Borrado\n",
      "***** CSV de Analisis '/home/pc/Tesis/BDimagenes/imAnalisis/deltaIndices.csv' construido!!\n",
      "Raster Borrado\n",
      "Raster Borrado\n",
      "***** CSV de Analisis '/home/pc/Tesis/BDimagenes/imAnalisis/deltaRaster.csv' construido!!\n"
     ]
    }
   ],
   "source": [
    "\n",
    "im.rasterToCSV(dImOriPre,dImClass,preCSV)\n",
    "im.rasterToCSV(dImOriPost,dImClass,postCSV)\n",
    "im.rasterToCSV(dImProIndyPre,dImClass,preIndicesCSV)\n",
    "im.rasterToCSV(dImProIndyPost,dImClass,postIndicesCSV)\n",
    "im.rasterToCSV(dImProIndPre,dImClass,indicesPreCSV)\n",
    "im.rasterToCSV(dImProIndPost,dImClass,indicesPostCSV)\n",
    "im.rasterToCSV(dImProDeltaImInd,dImClass,deltaRasIndiceCSV)\n",
    "im.rasterToCSV(dImProDeltaInd,dImClass,deltaIndicesCSV)\n",
    "im.rasterToCSV(dImProDeltaIm,dImClass,deltaRasterCSV)"
   ]
  },
  {
   "cell_type": "markdown",
   "metadata": {},
   "source": [
    "# Analisis Raster Post"
   ]
  },
  {
   "cell_type": "code",
   "execution_count": 94,
   "metadata": {},
   "outputs": [
    {
     "name": "stdout",
     "output_type": "stream",
     "text": [
      "\n",
      " Cabecera, muestra todas las columnas\n",
      "\n",
      "   banda1  banda2  banda3  banda4  banda5  banda6  banda7  banda8  banda9  \\\n",
      "0   405.0   594.0   857.0  1012.0  1241.0  1428.0  1678.0  2423.0  1784.0   \n",
      "1   471.0   750.0  1075.0  1211.0  1380.0  1466.0  1558.0  2178.0  1582.0   \n",
      "2   384.0   618.0   809.0  1093.0  1577.0  1805.0  1923.0  2075.0  1493.0   \n",
      "3   395.0   712.0  1091.0  1329.0  1828.0  1976.0  2127.0  2462.0  1787.0   \n",
      "4   342.0   629.0   947.0  1228.0  1816.0  2067.0  2154.0  2333.0  1660.0   \n",
      "\n",
      "   Clase  \n",
      "0    0.0  \n",
      "1    0.0  \n",
      "2    0.0  \n",
      "3    0.0  \n",
      "4    0.0  \n",
      "\n",
      " Columnas, nulos y tipo de datos \n",
      "\n",
      "<class 'pandas.core.frame.DataFrame'>\n",
      "RangeIndex: 1333164 entries, 0 to 1333163\n",
      "Data columns (total 10 columns):\n",
      " #   Column  Non-Null Count    Dtype  \n",
      "---  ------  --------------    -----  \n",
      " 0   banda1  1333164 non-null  float64\n",
      " 1   banda2  1333164 non-null  float64\n",
      " 2   banda3  1333164 non-null  float64\n",
      " 3   banda4  1333164 non-null  float64\n",
      " 4   banda5  1333164 non-null  float64\n",
      " 5   banda6  1333164 non-null  float64\n",
      " 6   banda7  1333164 non-null  float64\n",
      " 7   banda8  1333164 non-null  float64\n",
      " 8   banda9  1333164 non-null  float64\n",
      " 9   Clase   1333164 non-null  float64\n",
      "dtypes: float64(10)\n",
      "memory usage: 101.7 MB\n",
      "None\n",
      "\n",
      " Tipos de datos \n",
      "\n",
      "banda1    float64\n",
      "banda2    float64\n",
      "banda3    float64\n",
      "banda4    float64\n",
      "banda5    float64\n",
      "banda6    float64\n",
      "banda7    float64\n",
      "banda8    float64\n",
      "banda9    float64\n",
      "Clase     float64\n",
      "dtype: object\n",
      "\n",
      " Número de filas y columnas \n",
      "\n",
      "(1333164, 10)\n",
      "\n",
      " Número de datos en cada columna \n",
      "\n",
      "banda1    1333164\n",
      "banda2    1333164\n",
      "banda3    1333164\n",
      "banda4    1333164\n",
      "banda5    1333164\n",
      "banda6    1333164\n",
      "banda7    1333164\n",
      "banda8    1333164\n",
      "banda9    1333164\n",
      "Clase     1333164\n",
      "dtype: int64\n",
      "\n",
      " Estadistica Basica \n",
      "\n",
      "             banda1        banda2        banda3        banda4        banda5  \\\n",
      "count  1.333164e+06  1.333164e+06  1.333164e+06  1.333164e+06  1.333164e+06   \n",
      "mean   3.055973e+02  4.982134e+02  6.255749e+02  9.117136e+02  1.448706e+03   \n",
      "std    2.094423e+02  2.714380e+02  4.152154e+02  4.160717e+02  5.127866e+02   \n",
      "min    1.000000e+00  1.300000e+01  1.000000e+00  6.000000e+00  1.000000e+00   \n",
      "25%    1.410000e+02  2.930000e+02  2.910000e+02  6.100000e+02  1.084000e+03   \n",
      "50%    2.520000e+02  4.280000e+02  5.490000e+02  8.210000e+02  1.457000e+03   \n",
      "75%    4.230000e+02  6.370000e+02  8.590000e+02  1.135000e+03  1.752000e+03   \n",
      "max    4.578000e+03  4.903000e+03  5.012000e+03  5.319000e+03  5.327000e+03   \n",
      "\n",
      "             banda6        banda7        banda8        banda9         Clase  \n",
      "count  1.333164e+06  1.333164e+06  1.333164e+06  1.333164e+06  1.333164e+06  \n",
      "mean   1.667571e+03  1.877169e+03  1.655876e+03  1.159157e+03  2.017494e-01  \n",
      "std    6.020897e+02  6.554909e+02  7.810610e+02  6.827672e+02  4.013062e-01  \n",
      "min    1.000000e+00  1.000000e+00  2.800000e+01  2.500000e+01  0.000000e+00  \n",
      "25%    1.235000e+03  1.411000e+03  1.053000e+03  5.700000e+02  0.000000e+00  \n",
      "50%    1.690000e+03  1.909000e+03  1.505000e+03  1.036000e+03  0.000000e+00  \n",
      "75%    2.027000e+03  2.280000e+03  2.100000e+03  1.667000e+03  0.000000e+00  \n",
      "max    6.103000e+03  6.172000e+03  6.060000e+03  6.392000e+03  1.000000e+00  \n",
      "\n",
      " Número de datos en clase quemado \n",
      "\n",
      "banda1    268965\n",
      "banda2    268965\n",
      "banda3    268965\n",
      "banda4    268965\n",
      "banda5    268965\n",
      "banda6    268965\n",
      "banda7    268965\n",
      "banda8    268965\n",
      "banda9    268965\n",
      "Clase     268965\n",
      "dtype: int64\n",
      "\n",
      " Número de datos en clase No quemado \n",
      "\n",
      "banda1    1064199\n",
      "banda2    1064199\n",
      "banda3    1064199\n",
      "banda4    1064199\n",
      "banda5    1064199\n",
      "banda6    1064199\n",
      "banda7    1064199\n",
      "banda8    1064199\n",
      "banda9    1064199\n",
      "Clase     1064199\n",
      "dtype: int64\n"
     ]
    }
   ],
   "source": [
    "dataSet=pd.read_csv(postCSV,sep=\";\")\n",
    "print('\\n Cabecera, muestra todas las columnas\\n')\n",
    "print(dataSet.head())\n",
    "print('\\n Columnas, nulos y tipo de datos \\n')\n",
    "print(dataSet.info())\n",
    "print('\\n Tipos de datos \\n')\n",
    "print(dataSet.dtypes)\n",
    "print('\\n Número de filas y columnas \\n')\n",
    "print(dataSet.shape)\n",
    "print('\\n Número de datos en cada columna \\n')\n",
    "print(dataSet.count())\n",
    "print('\\n Estadistica Basica \\n')\n",
    "print(dataSet.describe())\n",
    "print('\\n Número de datos en clase quemado \\n')\n",
    "quemados=dataSet[dataSet.Clase==1]\n",
    "print(quemados.count())\n",
    "print('\\n Número de datos en clase No quemado \\n')\n",
    "noQuemados=dataSet[dataSet.Clase==0]\n",
    "print(noQuemados.count())\n",
    "\n",
    "\n"
   ]
  },
  {
   "cell_type": "markdown",
   "metadata": {},
   "source": [
    "### Estadistica por banda"
   ]
  },
  {
   "cell_type": "code",
   "execution_count": 73,
   "metadata": {},
   "outputs": [
    {
     "name": "stdout",
     "output_type": "stream",
     "text": [
      "Clase\n",
      "0.0    1064199\n",
      "1.0     268965\n",
      "Name: banda1, dtype: int64\n"
     ]
    }
   ],
   "source": [
    "grupoClase=dataSet.groupby(['Clase'])\n",
    "print(grupoClase.banda1.count())"
   ]
  },
  {
   "cell_type": "code",
   "execution_count": 74,
   "metadata": {},
   "outputs": [],
   "source": [
    "# Aseguremonos de que las imágenes aparezcan insertadas en iPython Notebook\n",
    "%matplotlib inline\n"
   ]
  },
  {
   "cell_type": "markdown",
   "metadata": {},
   "source": [
    "#### Numero de datos Quemados y no Quemados en Imagén "
   ]
  },
  {
   "cell_type": "code",
   "execution_count": 75,
   "metadata": {},
   "outputs": [
    {
     "data": {
      "image/png": "[encoded data removed]",
      "text/plain": [
       "<Figure size 432x288 with 1 Axes>"
      ]
     },
     "metadata": {
      "needs_background": "light"
     },
     "output_type": "display_data"
    }
   ],
   "source": [
    "plot = dataSet['Clase'].value_counts().plot(kind='bar', title='Quemados y No Quemados')"
   ]
  },
  {
   "cell_type": "code",
   "execution_count": 77,
   "metadata": {},
   "outputs": [
    {
     "data": {
      "text/plain": [
       "<matplotlib.axes._subplots.AxesSubplot at 0x7f9c1cf0d610>"
      ]
     },
     "execution_count": 77,
     "metadata": {},
     "output_type": "execute_result"
    },
    {
     "data": {
      "image/png": "[encoded data removed]",
      "text/plain": [
       "<Figure size 432x288 with 1 Axes>"
      ]
     },
     "metadata": {
      "needs_background": "light"
     },
     "output_type": "display_data"
    }
   ],
   "source": [
    "sns.boxplot(x = 'Clase', y = 'banda7', data = dataSet) "
   ]
  },
  {
   "cell_type": "code",
   "execution_count": null,
   "metadata": {},
   "outputs": [],
   "source": []
  },
  {
   "cell_type": "markdown",
   "metadata": {},
   "source": [
    "# Analisis Raster Delta"
   ]
  },
  {
   "cell_type": "code",
   "execution_count": 92,
   "metadata": {},
   "outputs": [
    {
     "name": "stdout",
     "output_type": "stream",
     "text": [
      "\n",
      " Cabecera, muestra todas las columnas\n",
      "\n",
      "   banda1  banda2  banda3  banda4  banda5  banda6  banda7  banda8  banda9  \\\n",
      "0   211.0   263.0   319.0   399.0   368.0   353.0   392.0   637.0   526.0   \n",
      "1   231.0   246.0   274.0   231.0   349.0   460.0   415.0   406.0   338.0   \n",
      "2   124.0   183.0   213.0   323.0   399.0   372.0   453.0   537.0   426.0   \n",
      "3   125.0   149.0   135.0   142.0   216.0   373.0   283.0   486.0   318.0   \n",
      "4   110.0   107.0    76.0   142.0   227.0   122.0   313.0   397.0   323.0   \n",
      "\n",
      "   Clase  \n",
      "0    0.0  \n",
      "1    0.0  \n",
      "2    0.0  \n",
      "3    0.0  \n",
      "4    0.0  \n",
      "\n",
      " Columnas, nulos y tipo de datos \n",
      "\n",
      "<class 'pandas.core.frame.DataFrame'>\n",
      "RangeIndex: 1333164 entries, 0 to 1333163\n",
      "Data columns (total 10 columns):\n",
      " #   Column  Non-Null Count    Dtype  \n",
      "---  ------  --------------    -----  \n",
      " 0   banda1  1333164 non-null  float64\n",
      " 1   banda2  1333164 non-null  float64\n",
      " 2   banda3  1333164 non-null  float64\n",
      " 3   banda4  1333164 non-null  float64\n",
      " 4   banda5  1333164 non-null  float64\n",
      " 5   banda6  1333164 non-null  float64\n",
      " 6   banda7  1333164 non-null  float64\n",
      " 7   banda8  1333164 non-null  float64\n",
      " 8   banda9  1333164 non-null  float64\n",
      " 9   Clase   1333164 non-null  float64\n",
      "dtypes: float64(10)\n",
      "memory usage: 101.7 MB\n",
      "None\n",
      "\n",
      " Tipos de datos \n",
      "\n",
      "banda1    float64\n",
      "banda2    float64\n",
      "banda3    float64\n",
      "banda4    float64\n",
      "banda5    float64\n",
      "banda6    float64\n",
      "banda7    float64\n",
      "banda8    float64\n",
      "banda9    float64\n",
      "Clase     float64\n",
      "dtype: object\n",
      "\n",
      " Número de filas y columnas \n",
      "\n",
      "(1333164, 10)\n",
      "\n",
      " Número de datos en cada columna \n",
      "\n",
      "banda1    1333164\n",
      "banda2    1333164\n",
      "banda3    1333164\n",
      "banda4    1333164\n",
      "banda5    1333164\n",
      "banda6    1333164\n",
      "banda7    1333164\n",
      "banda8    1333164\n",
      "banda9    1333164\n",
      "Clase     1333164\n",
      "dtype: int64\n",
      "\n",
      " Estadistica Basica \n",
      "\n",
      "             banda1        banda2        banda3        banda4        banda5  \\\n",
      "count  1.333164e+06  1.333164e+06  1.333164e+06  1.333164e+06  1.333164e+06   \n",
      "mean   5.756698e+01  8.811489e+01 -1.671369e+01  7.544862e+01  4.933235e+02   \n",
      "std    1.130829e+02  1.340765e+02  2.437103e+02  2.333460e+02  4.584248e+02   \n",
      "min   -1.587000e+03 -2.304000e+03 -3.501000e+03 -3.585000e+03 -3.584000e+03   \n",
      "25%    1.700000e+01  2.600000e+01 -1.240000e+02 -3.500000e+01  1.750000e+02   \n",
      "50%    6.600000e+01  8.800000e+01  2.100000e+01  8.000000e+01  4.100000e+02   \n",
      "75%    1.120000e+02  1.590000e+02  1.040000e+02  2.020000e+02  7.740000e+02   \n",
      "max    2.178000e+03  2.574000e+03  2.512000e+03  2.281000e+03  4.487000e+03   \n",
      "\n",
      "             banda6        banda7        banda8        banda9         Clase  \n",
      "count  1.333164e+06  1.333164e+06  1.333164e+06  1.333164e+06  1.333164e+06  \n",
      "mean   6.138382e+02  6.315799e+02  1.516367e+02 -3.402225e+01  2.017494e-01  \n",
      "std    5.727939e+02  6.049509e+02  3.395596e+02  3.591737e+02  4.013062e-01  \n",
      "min   -3.945000e+03 -3.944000e+03 -4.854000e+03 -3.582000e+03  0.000000e+00  \n",
      "25%    2.170000e+02  2.150000e+02  2.000000e+00 -1.820000e+02  0.000000e+00  \n",
      "50%    4.920000e+02  4.980000e+02  1.670000e+02  5.400000e+01  0.000000e+00  \n",
      "75%    9.540000e+02  9.910000e+02  3.360000e+02  1.760000e+02  0.000000e+00  \n",
      "max    5.574000e+03  5.682000e+03  2.276000e+03  2.381000e+03  1.000000e+00  \n",
      "\n",
      " Número de datos en clase quemado \n",
      "\n",
      "banda1    268965\n",
      "banda2    268965\n",
      "banda3    268965\n",
      "banda4    268965\n",
      "banda5    268965\n",
      "banda6    268965\n",
      "banda7    268965\n",
      "banda8    268965\n",
      "banda9    268965\n",
      "Clase     268965\n",
      "dtype: int64\n",
      "\n",
      " Número de datos en clase No quemado \n",
      "\n",
      "banda1    1064199\n",
      "banda2    1064199\n",
      "banda3    1064199\n",
      "banda4    1064199\n",
      "banda5    1064199\n",
      "banda6    1064199\n",
      "banda7    1064199\n",
      "banda8    1064199\n",
      "banda9    1064199\n",
      "Clase     1064199\n",
      "dtype: int64\n"
     ]
    }
   ],
   "source": [
    "dataSet=pd.read_csv(deltaRasterCSV,sep=\";\")\n",
    "print('\\n Cabecera, muestra todas las columnas\\n')\n",
    "print(dataSet.head())\n",
    "print('\\n Columnas, nulos y tipo de datos \\n')\n",
    "print(dataSet.info())\n",
    "print('\\n Tipos de datos \\n')\n",
    "print(dataSet.dtypes)\n",
    "print('\\n Número de filas y columnas \\n')\n",
    "print(dataSet.shape)\n",
    "print('\\n Número de datos en cada columna \\n')\n",
    "print(dataSet.count())\n",
    "print('\\n Estadistica Basica \\n')\n",
    "print(dataSet.describe())\n",
    "print('\\n Número de datos en clase quemado \\n')\n",
    "print(dataSet[dataSet.Clase==1].count())\n",
    "print('\\n Número de datos en clase No quemado \\n')\n",
    "print(dataSet[dataSet.Clase==0].count())"
   ]
  },
  {
   "cell_type": "code",
   "execution_count": 79,
   "metadata": {},
   "outputs": [],
   "source": [
    "# Aseguremonos de que las imágenes aparezcan insertadas en iPython Notebook\n",
    "%matplotlib inline\n"
   ]
  },
  {
   "cell_type": "code",
   "execution_count": 100,
   "metadata": {},
   "outputs": [
    {
     "name": "stdout",
     "output_type": "stream",
     "text": [
      "count    268965.000000\n",
      "mean        284.359036\n",
      "std         158.674823\n",
      "min           1.000000\n",
      "25%         162.000000\n",
      "50%         252.000000\n",
      "75%         368.000000\n",
      "max        1560.000000\n",
      "Name: banda1, dtype: float64\n"
     ]
    },
    {
     "data": {
      "image/png": "[encoded data removed]",
      "text/plain": [
       "<Figure size 432x288 with 1 Axes>"
      ]
     },
     "metadata": {
      "needs_background": "light"
     },
     "output_type": "display_data"
    }
   ],
   "source": [
    "sns.boxplot(x = 'Clase', y = 'banda1' ,data = dataSet) \n",
    "print(quemados['banda1'].describe())\n"
   ]
  },
  {
   "cell_type": "code",
   "execution_count": 84,
   "metadata": {},
   "outputs": [
    {
     "data": {
      "text/plain": [
       "<matplotlib.axes._subplots.AxesSubplot at 0x7f9c1cad2c90>"
      ]
     },
     "execution_count": 84,
     "metadata": {},
     "output_type": "execute_result"
    },
    {
     "data": {
      "image/png": "[encoded data removed]",
      "text/plain": [
       "<Figure size 432x288 with 1 Axes>"
      ]
     },
     "metadata": {
      "needs_background": "light"
     },
     "output_type": "display_data"
    }
   ],
   "source": [
    "sns.boxplot(x = 'Clase', y = 'banda2' ,data = dataSet) \n",
    "\n"
   ]
  },
  {
   "cell_type": "code",
   "execution_count": 85,
   "metadata": {},
   "outputs": [
    {
     "data": {
      "text/plain": [
       "<matplotlib.axes._subplots.AxesSubplot at 0x7f9c1c9a4a50>"
      ]
     },
     "execution_count": 85,
     "metadata": {},
     "output_type": "execute_result"
    },
    {
     "data": {
      "image/png": "[encoded data removed]",
      "text/plain": [
       "<Figure size 432x288 with 1 Axes>"
      ]
     },
     "metadata": {
      "needs_background": "light"
     },
     "output_type": "display_data"
    }
   ],
   "source": [
    "sns.boxplot(x = 'Clase', y = 'banda3' ,data = dataSet) "
   ]
  },
  {
   "cell_type": "code",
   "execution_count": 86,
   "metadata": {},
   "outputs": [
    {
     "data": {
      "text/plain": [
       "<matplotlib.axes._subplots.AxesSubplot at 0x7f9c477287d0>"
      ]
     },
     "execution_count": 86,
     "metadata": {},
     "output_type": "execute_result"
    },
    {
     "data": {
      "image/png": "[encoded data removed]",
      "text/plain": [
       "<Figure size 432x288 with 1 Axes>"
      ]
     },
     "metadata": {
      "needs_background": "light"
     },
     "output_type": "display_data"
    }
   ],
   "source": [
    "sns.boxplot(x = 'Clase', y = 'banda4' ,data = dataSet) "
   ]
  },
  {
   "cell_type": "code",
   "execution_count": 87,
   "metadata": {},
   "outputs": [
    {
     "data": {
      "text/plain": [
       "<matplotlib.axes._subplots.AxesSubplot at 0x7f9c1c85a090>"
      ]
     },
     "execution_count": 87,
     "metadata": {},
     "output_type": "execute_result"
    },
    {
     "data": {
      "image/png": "[encoded data removed]",
      "text/plain": [
       "<Figure size 432x288 with 1 Axes>"
      ]
     },
     "metadata": {
      "needs_background": "light"
     },
     "output_type": "display_data"
    }
   ],
   "source": [
    "sns.boxplot(x = 'Clase', y = 'banda5' ,data = dataSet) \n"
   ]
  },
  {
   "cell_type": "code",
   "execution_count": 88,
   "metadata": {},
   "outputs": [
    {
     "data": {
      "text/plain": [
       "<matplotlib.axes._subplots.AxesSubplot at 0x7f9c12e0f8d0>"
      ]
     },
     "execution_count": 88,
     "metadata": {},
     "output_type": "execute_result"
    },
    {
     "data": {
      "image/png": "[encoded data removed]",
      "text/plain": [
       "<Figure size 432x288 with 1 Axes>"
      ]
     },
     "metadata": {
      "needs_background": "light"
     },
     "output_type": "display_data"
    }
   ],
   "source": [
    "sns.boxplot(x = 'Clase', y = 'banda6' ,data = dataSet) "
   ]
  },
  {
   "cell_type": "code",
   "execution_count": 89,
   "metadata": {},
   "outputs": [
    {
     "data": {
      "text/plain": [
       "<matplotlib.axes._subplots.AxesSubplot at 0x7f9c12dfcd50>"
      ]
     },
     "execution_count": 89,
     "metadata": {},
     "output_type": "execute_result"
    },
    {
     "data": {
      "image/png": "[encoded data removed]",
      "text/plain": [
       "<Figure size 432x288 with 1 Axes>"
      ]
     },
     "metadata": {
      "needs_background": "light"
     },
     "output_type": "display_data"
    }
   ],
   "source": [
    "sns.boxplot(x = 'Clase', y = 'banda7' ,data = dataSet) \n"
   ]
  },
  {
   "cell_type": "code",
   "execution_count": 90,
   "metadata": {},
   "outputs": [
    {
     "data": {
      "text/plain": [
       "<matplotlib.axes._subplots.AxesSubplot at 0x7f9c12d07c50>"
      ]
     },
     "execution_count": 90,
     "metadata": {},
     "output_type": "execute_result"
    },
    {
     "data": {
      "image/png": "[encoded data removed]",
      "text/plain": [
       "<Figure size 432x288 with 1 Axes>"
      ]
     },
     "metadata": {
      "needs_background": "light"
     },
     "output_type": "display_data"
    }
   ],
   "source": [
    "sns.boxplot(x = 'Clase', y = 'banda8' ,data = dataSet) \n"
   ]
  },
  {
   "cell_type": "code",
   "execution_count": 91,
   "metadata": {},
   "outputs": [
    {
     "data": {
      "text/plain": [
       "<matplotlib.axes._subplots.AxesSubplot at 0x7f9c12c8d9d0>"
      ]
     },
     "execution_count": 91,
     "metadata": {},
     "output_type": "execute_result"
    },
    {
     "data": {
      "image/png": "[encoded data removed]",
      "text/plain": [
       "<Figure size 432x288 with 1 Axes>"
      ]
     },
     "metadata": {
      "needs_background": "light"
     },
     "output_type": "display_data"
    }
   ],
   "source": [
    "sns.boxplot(x = 'Clase', y = 'banda9' ,data = dataSet) "
   ]
  },
  {
   "cell_type": "code",
   "execution_count": null,
   "metadata": {},
   "outputs": [],
   "source": []
  }
 ],
 "metadata": {
  "kernelspec": {
   "display_name": "Python 3",
   "language": "python",
   "name": "python3"
  },
  "language_info": {
   "codemirror_mode": {
    "name": "ipython",
    "version": 3
   },
   "file_extension": ".py",
   "mimetype": "text/x-python",
   "name": "python",
   "nbconvert_exporter": "python",
   "pygments_lexer": "ipython3",
   "version": "3.7.6"
  }
 },
 "nbformat": 4,
 "nbformat_minor": 4
}
